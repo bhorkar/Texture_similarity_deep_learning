{
 "metadata": {
  "name": "",
  "signature": "sha256:780d8c24999dbcc1b8dedb6ec0340ccb63aea54b860b02945031f1959e13b3c1"
 },
 "nbformat": 3,
 "nbformat_minor": 0,
 "worksheets": [
  {
   "cells": [
    {
     "cell_type": "code",
     "collapsed": false,
     "input": [
      "from __future__ import print_function\n",
      "import numpy as np\n",
      "import math as math\n",
      "import argparse\n",
      "import random\n",
      "import glob\n",
      "import cv2\n",
      "# import the necessary packages\n",
      "from DeepDescriptor import DeepDescriptor\n",
      "from searcher import Searcher\n",
      "import argparse\n",
      "import os, random\n",
      "import matplotlib.pyplot as plt \n",
      "from numpy import linalg as LA\n",
      "%matplotlib inline \n"
     ],
     "language": "python",
     "metadata": {},
     "outputs": [],
     "prompt_number": 1
    },
    {
     "cell_type": "code",
     "collapsed": false,
     "input": [
      "input_size = 64*64;\n",
      "input_dim_used = input_size;\n",
      "model_dict = \"model4/\";\n",
      "nprocess = 4;\n",
      "train_path = '../../fashion_train/';\n",
      "filenames = model_dict+\"saveImage1.txt\"\n",
      "cd = DeepDescriptor('pool1');"
     ],
     "language": "python",
     "metadata": {},
     "outputs": [],
     "prompt_number": 2
    },
    {
     "cell_type": "code",
     "collapsed": false,
     "input": [
      "from math import floor \n",
      "Filelist_glob = glob.iglob(train_path + \"/*.jpg\");\n",
      "\n",
      "def file_len(Filelist_glob):\n",
      "    flen = 0;\n",
      "    for imagePath in Filelist_glob:\n",
      "      flen = flen + 1;\n",
      "    return flen;\n",
      "flen = file_len(Filelist_glob);\n",
      "print(\"File size =\", flen);\n",
      "\n",
      "neach_processed_files = floor(flen/nprocess);\n",
      "print(neach_processed_files);\n"
     ],
     "language": "python",
     "metadata": {},
     "outputs": [
      {
       "output_type": "stream",
       "stream": "stdout",
       "text": [
        "File size = 101226\n",
        "25306.0\n"
       ]
      }
     ],
     "prompt_number": 3
    },
    {
     "cell_type": "code",
     "collapsed": false,
     "input": [
      "\n",
      "Filelist_glob1 = glob.iglob(train_path + \"/*.jpg\");\n",
      "def create_list(Filelist_glob, neach_processed_files):\n",
      "    print(neach_processed_files);\n",
      "    flen = 0;\n",
      "    filemap = [];\n",
      "    filelist = [];\n",
      "    b = 0;\n",
      "    np = 0;\n",
      "    for imagePath in Filelist_glob:\n",
      "      b = b+1;\n",
      "      filelist.append(imagePath);\n",
      "      if(b == neach_processed_files-1):\n",
      "          print(\"adding files for process \",np)\n",
      "          filemap.append(filelist);\n",
      "          b = 0;\n",
      "          np = np + 1;\n",
      "          filelist = [];\n",
      "    return filemap;\n",
      "filemap = create_list(Filelist_glob1,neach_processed_files);\n",
      "print(len(filemap[1]))"
     ],
     "language": "python",
     "metadata": {},
     "outputs": [
      {
       "output_type": "stream",
       "stream": "stdout",
       "text": [
        "25306.0\n",
        "adding files for process "
       ]
      },
      {
       "output_type": "stream",
       "stream": "stdout",
       "text": [
        " 0\n",
        "adding files for process  1\n",
        "adding files for process  2\n",
        "adding files for process  3\n",
        "25305\n"
       ]
      }
     ],
     "prompt_number": 4
    },
    {
     "cell_type": "code",
     "collapsed": false,
     "input": [
      "\n",
      "def readfileFromdict(Filelist):\n",
      "    X_train = np.array([], dtype=np.float).reshape(0,64*64);\n",
      "    print(\"hello\", len(Filelist));\n",
      "    b = 0;\n",
      "    batch_size = 1;\n",
      "    read_features  =  np.array([], dtype=np.float).reshape(0,input_dim_used);\n",
      "    n = 0;\n",
      "    #return np.ones(1,64*64);\n",
      "    for i in Filelist:\n",
      "        if(n  == 10 ):\n",
      "            print(n);\n",
      "            break;\n",
      "        # extract the image ID (i.e. the unique filename) from the image\n",
      "        # path and load the image itself\n",
      "        features = cd.describe(i);\n",
      "        features = np.asarray(features.ravel()).reshape(1,-1)[0][:];\n",
      "        features = features[:input_dim_used]\n",
      "        #features = np.array([], dtype=np.float).reshape(0,64*64);\n",
      "        read_features = np.vstack((read_features,features));\n",
      "        X_train = np.vstack((X_train,read_features));\n",
      "        n = n+1;\n",
      "    return X_train;\n",
      "\n",
      "      \n"
     ],
     "language": "python",
     "metadata": {},
     "outputs": [],
     "prompt_number": 6
    },
    {
     "cell_type": "code",
     "collapsed": false,
     "input": [
      "X_train = np.array([], dtype=np.float).reshape(0,64*64);\n",
      "def log_result(result):\n",
      "    # This is called whenever foo_pool(i) returns a result.\n",
      "    # result_list is modified only by the main process, not the pool workers.\n",
      "    X_train.append(result)\n"
     ],
     "language": "python",
     "metadata": {},
     "outputs": [],
     "prompt_number": 12
    },
    {
     "cell_type": "code",
     "collapsed": false,
     "input": [],
     "language": "python",
     "metadata": {},
     "outputs": []
    },
    {
     "cell_type": "code",
     "collapsed": false,
     "input": [
      "import multiprocessing as mp\n",
      "import time\n",
      "\n",
      "\n",
      "result_list = []\n",
      "X_train = np.array([], dtype=np.float).reshape(0,64*64);\n",
      "def log_result(result):\n",
      "    # This is called whenever foo_pool(i) returns a result.\n",
      "    # result_list is modified only by the main process, not the pool workers.\n",
      "    X_train = np.vstack((X_train,result));\n",
      "    #print(result.shape)\n",
      "    #return X_train;\n",
      "\n",
      "def apply_async_with_callback():\n",
      "    pool = mp.Pool(4)\n",
      "    for i in range(4):\n",
      "        pool.apply_async(readfileFromdict, args = (filemap[i], ), callback = log_result)\n",
      "    pool.close()\n",
      "    pool.join()\n",
      "    print(X_train)\n",
      "\n",
      "if __name__ == '__main__':\n",
      "    apply_async_with_callback()"
     ],
     "language": "python",
     "metadata": {},
     "outputs": []
    },
    {
     "cell_type": "code",
     "collapsed": false,
     "input": [],
     "language": "python",
     "metadata": {},
     "outputs": []
    }
   ],
   "metadata": {}
  }
 ]
}