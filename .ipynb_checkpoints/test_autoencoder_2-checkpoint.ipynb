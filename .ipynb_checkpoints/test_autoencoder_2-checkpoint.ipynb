{
 "metadata": {
  "name": "",
  "signature": "sha256:08412a23a53527667f51649116c656791f3c983c99e43267293b617726038a9f"
 },
 "nbformat": 3,
 "nbformat_minor": 0,
 "worksheets": [
  {
   "cells": [
    {
     "cell_type": "code",
     "collapsed": false,
     "input": [
      "from __future__ import print_function\n",
      "import numpy as np\n",
      "import tensorflow as tf\n",
      "import math as math\n",
      "import argparse\n",
      "import random\n",
      "import glob\n",
      "import cv2\n",
      "# import the necessary packages\n",
      "from DeepDescriptor import DeepDescriptor\n",
      "from searcher import Searcher\n",
      "import argparse\n",
      "import os, random\n",
      "import matplotlib.pyplot as plt \n",
      "%matplotlib inline \n",
      "\n",
      "argsdataset = \"inception_3a.csv\";\n",
      "input_size = 256*256;\n",
      "\n",
      "gpu_options = tf.GPUOptions(per_process_gpu_memory_fraction=0.8)\n",
      "\n",
      "sess = tf.Session(config=tf.ConfigProto(gpu_options=gpu_options))"
     ],
     "language": "python",
     "metadata": {},
     "outputs": [],
     "prompt_number": 2
    },
    {
     "cell_type": "code",
     "collapsed": false,
     "input": [
      "debug = 1;\n",
      "scale = 1;\n",
      "if debug:\n",
      "    input_dim_used = input_size/scale;\n",
      "else:\n",
      "    input_dim_used = input_size"
     ],
     "language": "python",
     "metadata": {},
     "outputs": [],
     "prompt_number": 3
    },
    {
     "cell_type": "code",
     "collapsed": false,
     "input": [],
     "language": "python",
     "metadata": {},
     "outputs": [],
     "prompt_number": 3
    },
    {
     "cell_type": "code",
     "collapsed": false,
     "input": [
      "\n",
      "import csv\n",
      "csv.field_size_limit(4521984*2);\n",
      "filenames = \"saveImage1.txt\"\n"
     ],
     "language": "python",
     "metadata": {},
     "outputs": [],
     "prompt_number": 4
    },
    {
     "cell_type": "code",
     "collapsed": false,
     "input": [
      "def file_len(fname):\n",
      "    with open(fname) as f:\n",
      "        for i, l in enumerate(f):\n",
      "            pass\n",
      "    return i + 1\n",
      "flen = file_len(argsdataset);\n",
      "print(\"File size =\", flen);\n",
      "\n"
     ],
     "language": "python",
     "metadata": {},
     "outputs": [
      {
       "output_type": "stream",
       "stream": "stdout",
       "text": [
        "File size = 101226\n"
       ]
      }
     ],
     "prompt_number": 30
    },
    {
     "cell_type": "code",
     "collapsed": false,
     "input": [
      "flen = 101226"
     ],
     "language": "python",
     "metadata": {},
     "outputs": [],
     "prompt_number": 5
    },
    {
     "cell_type": "code",
     "collapsed": false,
     "input": [
      "\n",
      "global f\n",
      "global image_idx \n",
      "\n",
      "\n",
      "def init():\n",
      "  f = open(argsdataset);\n",
      "  reader = csv.reader(f)\n",
      "    \n",
      "\n",
      "init();\n",
      "f = open(argsdataset);\n",
      "reader = csv.reader(f)\n",
      "def readfile(reader,batch_size = 1):\n",
      "    b = 0;\n",
      "    read_features  =  np.array([], dtype=np.float).reshape(0,input_dim_used)\n",
      "    for row in reader:\n",
      "        features = [x for x in row[1:]][0];\n",
      "        features = features.replace('[','');\n",
      "        features = features.replace(']','');\n",
      "        featureslist = features.split();\n",
      "        features = [float(x) for x in (featureslist) ];\n",
      "        features = np.array(features).reshape(1,-1);\n",
      "        features = features[:,:input_dim_used]\n",
      "        read_features = np.vstack((read_features,features));\n",
      "        if(b == batch_size-1):\n",
      "            break\n",
      "        b = b+1;\n",
      "    return read_features;\n",
      "shape = (readfile(reader).shape)\n",
      "print(shape)\n"
     ],
     "language": "python",
     "metadata": {},
     "outputs": [
      {
       "output_type": "stream",
       "stream": "stdout",
       "text": [
        "(1, 65536)\n"
       ]
      }
     ],
     "prompt_number": 6
    },
    {
     "cell_type": "code",
     "collapsed": false,
     "input": [
      "\n",
      "#unclear why caffee and tensorflow cannot be used together \n",
      "cd = DeepDescriptor('inception_3a/output');\n",
      "\n",
      "Filelist = glob.iglob(\"../../fashion_train\" + \"/*.jpg\");\n",
      "def readfileFromdict(Filelist, batch_size = 1):\n",
      "    b = 0;\n",
      "    read_features  =  np.array([], dtype=np.float).reshape(0,input_dim_used)\n",
      "    for imagePath in Filelist:\n",
      "        # extract the image ID (i.e. the unique filename) from the image\n",
      "        # path and load the image itself\n",
      "        imageID = imagePath[imagePath.rfind(\"/\") + 1:]\n",
      "        #print(imagePath);\n",
      "        image = cv2.imread(imagePath)\n",
      "        features = cd.describe(imagePath);\n",
      "        features = np.asarray(features.ravel()).reshape(1,-1)[0][:];\n",
      "        features = features[:input_dim_used]\n",
      "        read_features = np.vstack((read_features,features));\n",
      "        if(b == batch_size-1):\n",
      "            break\n",
      "        b = b+1;\n",
      "    return read_features;\n",
      "#shape = readfileFromdict(Filelist).shape;\n",
      "#print(shape)"
     ],
     "language": "python",
     "metadata": {},
     "outputs": []
    },
    {
     "cell_type": "code",
     "collapsed": false,
     "input": [
      "init();\n",
      "f = open(argsdataset);\n",
      "reader = csv.reader(f)\n",
      "image_idx = open(filenames, \"w\")\n",
      "for row in reader:\n",
      "    image_idx.write(\"%s \\n\" % (row[0]))\n",
      "   "
     ],
     "language": "python",
     "metadata": {},
     "outputs": [],
     "prompt_number": 32
    },
    {
     "cell_type": "code",
     "collapsed": false,
     "input": [
      "def create(x, layer_sizes):\n",
      "\n",
      "        # Build the encoding layers\n",
      "        next_layer_input = x\n",
      "\n",
      "        encoding_matrices = []\n",
      "        for dim in layer_sizes:\n",
      "                input_dim = int(next_layer_input.get_shape()[1])\n",
      "\n",
      "                # Initialize W using random values in interval [-1/sqrt(n) , 1/sqrt(n)]\n",
      "                W = tf.Variable(tf.random_uniform([input_dim, dim], -1.0 / math.sqrt(input_dim), 1.0 / math.sqrt(input_dim_used)), name = \"w\"+str(dim))\n",
      "\n",
      "                # Initialize b to zero\n",
      "                b = tf.Variable(tf.zeros([dim]), name = \"b\"+str(dim))\n",
      "\n",
      "                # We are going to use tied-weights so store the W matrix for later reference.\n",
      "                encoding_matrices.append(W)\n",
      "\n",
      "                output = tf.nn.tanh(tf.matmul(next_layer_input,W) + b)\n",
      "\n",
      "                # the input into the next layer is the output of this layer\n",
      "                next_layer_input = output\n",
      "\n",
      "        # The fully encoded x value is now stored in the next_layer_input\n",
      "        encoded_x = next_layer_input\n",
      "\n",
      "        # build the reconstruction layers by reversing the reductions\n",
      "        layer_sizes.reverse()\n",
      "        encoding_matrices.reverse()\n",
      "\n",
      "\n",
      "        for i, dim in enumerate(layer_sizes[1:] + [ int(x.get_shape()[1])]) :\n",
      "                # we are using tied weights, so just lookup the encoding matrix for this step and transpose it\n",
      "                W = tf.transpose(encoding_matrices[i])\n",
      "                b = tf.Variable(tf.zeros([dim]))\n",
      "                output = tf.nn.tanh(tf.matmul(next_layer_input,W) + b)\n",
      "                next_layer_input = output\n",
      "\n",
      "        # the fully encoded and reconstructed value of x is here:\n",
      "        reconstructed_x = next_layer_input\n",
      "\n",
      "        return {\n",
      "                'encoded': encoded_x,\n",
      "                'decoded': reconstructed_x,\n",
      "                'cost' : tf.sqrt(tf.reduce_mean(tf.square(x-reconstructed_x)))\n",
      "        }"
     ],
     "language": "python",
     "metadata": {},
     "outputs": [],
     "prompt_number": 33
    },
    {
     "cell_type": "code",
     "collapsed": false,
     "input": [
      "f = open(argsdataset);\n",
      "reader = csv.reader(f)\n",
      "\n",
      "x = tf.placeholder(\"float\", [None, input_dim_used])\n",
      "autoencoder = create(x, [256,128])\n",
      "init = tf.initialize_all_variables()\n",
      "\n",
      "saver = tf.train.Saver();\n",
      "\n",
      "if 1:\n",
      " sess.run(init)\n",
      " train_step = tf.train.GradientDescentOptimizer(0.5).minimize(autoencoder['cost'])\n",
      " for i in xrange(flen):\n",
      "                batch = []\n",
      "                for j in range(1):\n",
      "                        batch = readfile(reader);\n",
      "                        batch = np.array(batch);\n",
      "                       #print(batch.shape)\n",
      "                        sess.run(train_step, feed_dict={x: (batch)})\n",
      "                if i % 1000 == 0:\n",
      "                        print (i, \" cost\", sess.run(autoencoder['cost'], feed_dict={x: batch}))\n",
      "                        save_path = saver.save(sess, \"model1/model1.ckpt\",global_step = i)\n",
      "                        print(\"Model saved in file: %s\" % save_path)\n",
      "                      #  print (i, \" original\", batch[0])\n",
      "                      #  print (i, \" decoded\", sess.run(autoencoder['decoded'], feed_dict={x: batch}));\n",
      "   \n",
      "\n",
      "f.close();\n",
      "\n",
      "\n",
      "\n",
      " \n"
     ],
     "language": "python",
     "metadata": {},
     "outputs": [
      {
       "output_type": "stream",
       "stream": "stdout",
       "text": [
        "WARNING:tensorflow:From <ipython-input-34-59d2a3e3d7b1>:6 in <module>.: initialize_all_variables (from tensorflow.python.ops.variables) is deprecated and will be removed after 2017-03-02.\n",
        "Instructions for updating:\n",
        "Use `tf.global_variables_initializer` instead.\n"
       ]
      },
      {
       "output_type": "stream",
       "stream": "stderr",
       "text": [
        "WARNING:tensorflow:From <ipython-input-34-59d2a3e3d7b1>:6 in <module>.: initialize_all_variables (from tensorflow.python.ops.variables) is deprecated and will be removed after 2017-03-02.\n",
        "Instructions for updating:\n",
        "Use `tf.global_variables_initializer` instead.\n"
       ]
      },
      {
       "output_type": "stream",
       "stream": "stdout",
       "text": [
        "0  cost 0.00389864\n",
        "Model saved in file: model1/model1.ckpt-0"
       ]
      },
      {
       "output_type": "stream",
       "stream": "stdout",
       "text": [
        "\n",
        "1000"
       ]
      },
      {
       "output_type": "stream",
       "stream": "stdout",
       "text": [
        "  cost 0.00201779\n",
        "Model saved in file: model1/model1.ckpt-1000"
       ]
      },
      {
       "output_type": "stream",
       "stream": "stdout",
       "text": [
        "\n",
        "2000"
       ]
      },
      {
       "output_type": "stream",
       "stream": "stdout",
       "text": [
        "  cost 0.00185923\n",
        "Model saved in file: model1/model1.ckpt-2000"
       ]
      },
      {
       "output_type": "stream",
       "stream": "stdout",
       "text": [
        "\n",
        "3000"
       ]
      },
      {
       "output_type": "stream",
       "stream": "stdout",
       "text": [
        "  cost 0.00186299\n",
        "Model saved in file: model1/model1.ckpt-3000"
       ]
      },
      {
       "output_type": "stream",
       "stream": "stdout",
       "text": [
        "\n",
        "4000"
       ]
      },
      {
       "output_type": "stream",
       "stream": "stdout",
       "text": [
        "  cost 0.00247423\n",
        "Model saved in file: model1/model1.ckpt-4000"
       ]
      },
      {
       "output_type": "stream",
       "stream": "stdout",
       "text": [
        "\n",
        "5000"
       ]
      },
      {
       "output_type": "stream",
       "stream": "stdout",
       "text": [
        "  cost 0.00174503\n",
        "Model saved in file: model1/model1.ckpt-5000"
       ]
      },
      {
       "output_type": "stream",
       "stream": "stdout",
       "text": [
        "\n",
        "6000"
       ]
      },
      {
       "output_type": "stream",
       "stream": "stdout",
       "text": [
        "  cost 0.00241875\n",
        "Model saved in file: model1/model1.ckpt-6000"
       ]
      },
      {
       "output_type": "stream",
       "stream": "stdout",
       "text": [
        "\n",
        "7000"
       ]
      },
      {
       "output_type": "stream",
       "stream": "stdout",
       "text": [
        "  cost 0.00238442\n",
        "Model saved in file: model1/model1.ckpt-7000"
       ]
      },
      {
       "output_type": "stream",
       "stream": "stdout",
       "text": [
        "\n",
        "8000"
       ]
      },
      {
       "output_type": "stream",
       "stream": "stdout",
       "text": [
        "  cost 0.00304018\n",
        "Model saved in file: model1/model1.ckpt-8000"
       ]
      },
      {
       "output_type": "stream",
       "stream": "stdout",
       "text": [
        "\n",
        "9000"
       ]
      },
      {
       "output_type": "stream",
       "stream": "stdout",
       "text": [
        "  cost 0.00207254\n",
        "Model saved in file: model1/model1.ckpt-9000"
       ]
      },
      {
       "output_type": "stream",
       "stream": "stdout",
       "text": [
        "\n",
        "10000"
       ]
      },
      {
       "output_type": "stream",
       "stream": "stdout",
       "text": [
        "  cost 0.00265337\n",
        "Model saved in file: model1/model1.ckpt-10000"
       ]
      },
      {
       "output_type": "stream",
       "stream": "stdout",
       "text": [
        "\n",
        "11000"
       ]
      },
      {
       "output_type": "stream",
       "stream": "stdout",
       "text": [
        "  cost 0.00172387\n",
        "Model saved in file: model1/model1.ckpt-11000"
       ]
      },
      {
       "output_type": "stream",
       "stream": "stdout",
       "text": [
        "\n",
        "12000"
       ]
      },
      {
       "output_type": "stream",
       "stream": "stdout",
       "text": [
        "  cost 0.00247482\n",
        "Model saved in file: model1/model1.ckpt-12000"
       ]
      },
      {
       "output_type": "stream",
       "stream": "stdout",
       "text": [
        "\n",
        "13000"
       ]
      },
      {
       "output_type": "stream",
       "stream": "stdout",
       "text": [
        "  cost 0.00324226\n",
        "Model saved in file: model1/model1.ckpt-13000"
       ]
      },
      {
       "output_type": "stream",
       "stream": "stdout",
       "text": [
        "\n",
        "14000"
       ]
      },
      {
       "output_type": "stream",
       "stream": "stdout",
       "text": [
        "  cost 0.00234948\n",
        "Model saved in file: model1/model1.ckpt-14000"
       ]
      },
      {
       "output_type": "stream",
       "stream": "stdout",
       "text": [
        "\n",
        "15000"
       ]
      },
      {
       "output_type": "stream",
       "stream": "stdout",
       "text": [
        "  cost 0.0019406\n",
        "Model saved in file: model1/model1.ckpt-15000"
       ]
      },
      {
       "output_type": "stream",
       "stream": "stdout",
       "text": [
        "\n",
        "16000"
       ]
      },
      {
       "output_type": "stream",
       "stream": "stdout",
       "text": [
        "  cost 0.00186061\n",
        "Model saved in file: model1/model1.ckpt-16000"
       ]
      },
      {
       "output_type": "stream",
       "stream": "stdout",
       "text": [
        "\n",
        "17000"
       ]
      },
      {
       "output_type": "stream",
       "stream": "stdout",
       "text": [
        "  cost 0.00198803\n",
        "Model saved in file: model1/model1.ckpt-17000"
       ]
      },
      {
       "output_type": "stream",
       "stream": "stdout",
       "text": [
        "\n",
        "18000"
       ]
      },
      {
       "output_type": "stream",
       "stream": "stdout",
       "text": [
        "  cost 0.00174943\n",
        "Model saved in file: model1/model1.ckpt-18000"
       ]
      },
      {
       "output_type": "stream",
       "stream": "stdout",
       "text": [
        "\n",
        "19000"
       ]
      },
      {
       "output_type": "stream",
       "stream": "stdout",
       "text": [
        "  cost 0.00214543\n",
        "Model saved in file: model1/model1.ckpt-19000"
       ]
      },
      {
       "output_type": "stream",
       "stream": "stdout",
       "text": [
        "\n",
        "20000"
       ]
      },
      {
       "output_type": "stream",
       "stream": "stdout",
       "text": [
        "  cost 0.00239028\n",
        "Model saved in file: model1/model1.ckpt-20000"
       ]
      },
      {
       "output_type": "stream",
       "stream": "stdout",
       "text": [
        "\n",
        "21000"
       ]
      },
      {
       "output_type": "stream",
       "stream": "stdout",
       "text": [
        "  cost 0.00192032\n",
        "Model saved in file: model1/model1.ckpt-21000"
       ]
      },
      {
       "output_type": "stream",
       "stream": "stdout",
       "text": [
        "\n",
        "22000"
       ]
      },
      {
       "output_type": "stream",
       "stream": "stdout",
       "text": [
        "  cost 0.00214567\n",
        "Model saved in file: model1/model1.ckpt-22000"
       ]
      },
      {
       "output_type": "stream",
       "stream": "stdout",
       "text": [
        "\n",
        "23000"
       ]
      },
      {
       "output_type": "stream",
       "stream": "stdout",
       "text": [
        "  cost 0.00193028\n",
        "Model saved in file: model1/model1.ckpt-23000"
       ]
      },
      {
       "output_type": "stream",
       "stream": "stdout",
       "text": [
        "\n",
        "24000"
       ]
      },
      {
       "output_type": "stream",
       "stream": "stdout",
       "text": [
        "  cost 0.00203779\n",
        "Model saved in file: model1/model1.ckpt-24000"
       ]
      },
      {
       "output_type": "stream",
       "stream": "stdout",
       "text": [
        "\n",
        "25000"
       ]
      },
      {
       "output_type": "stream",
       "stream": "stdout",
       "text": [
        "  cost 0.0022132\n",
        "Model saved in file: model1/model1.ckpt-25000"
       ]
      },
      {
       "output_type": "stream",
       "stream": "stdout",
       "text": [
        "\n",
        "26000"
       ]
      },
      {
       "output_type": "stream",
       "stream": "stdout",
       "text": [
        "  cost 0.00308862\n",
        "Model saved in file: model1/model1.ckpt-26000"
       ]
      },
      {
       "output_type": "stream",
       "stream": "stdout",
       "text": [
        "\n",
        "27000"
       ]
      },
      {
       "output_type": "stream",
       "stream": "stdout",
       "text": [
        "  cost 0.00264751\n",
        "Model saved in file: model1/model1.ckpt-27000"
       ]
      },
      {
       "output_type": "stream",
       "stream": "stdout",
       "text": [
        "\n",
        "28000"
       ]
      },
      {
       "output_type": "stream",
       "stream": "stdout",
       "text": [
        "  cost 0.00244392\n",
        "Model saved in file: model1/model1.ckpt-28000"
       ]
      },
      {
       "output_type": "stream",
       "stream": "stdout",
       "text": [
        "\n",
        "29000"
       ]
      },
      {
       "output_type": "stream",
       "stream": "stdout",
       "text": [
        "  cost 0.00177067\n",
        "Model saved in file: model1/model1.ckpt-29000"
       ]
      },
      {
       "output_type": "stream",
       "stream": "stdout",
       "text": [
        "\n",
        "30000"
       ]
      },
      {
       "output_type": "stream",
       "stream": "stdout",
       "text": [
        "  cost 0.00321275\n",
        "Model saved in file: model1/model1.ckpt-30000"
       ]
      },
      {
       "output_type": "stream",
       "stream": "stdout",
       "text": [
        "\n",
        "31000"
       ]
      },
      {
       "output_type": "stream",
       "stream": "stdout",
       "text": [
        "  cost 0.00244352\n",
        "Model saved in file: model1/model1.ckpt-31000"
       ]
      },
      {
       "output_type": "stream",
       "stream": "stdout",
       "text": [
        "\n",
        "32000"
       ]
      },
      {
       "output_type": "stream",
       "stream": "stdout",
       "text": [
        "  cost 0.00212335\n",
        "Model saved in file: model1/model1.ckpt-32000"
       ]
      },
      {
       "output_type": "stream",
       "stream": "stdout",
       "text": [
        "\n",
        "33000"
       ]
      },
      {
       "output_type": "stream",
       "stream": "stdout",
       "text": [
        "  cost 0.00183409\n",
        "Model saved in file: model1/model1.ckpt-33000"
       ]
      },
      {
       "output_type": "stream",
       "stream": "stdout",
       "text": [
        "\n",
        "34000"
       ]
      },
      {
       "output_type": "stream",
       "stream": "stdout",
       "text": [
        "  cost 0.00184854\n",
        "Model saved in file: model1/model1.ckpt-34000"
       ]
      },
      {
       "output_type": "stream",
       "stream": "stdout",
       "text": [
        "\n",
        "35000"
       ]
      },
      {
       "output_type": "stream",
       "stream": "stdout",
       "text": [
        "  cost 0.00258112\n",
        "Model saved in file: model1/model1.ckpt-35000"
       ]
      },
      {
       "output_type": "stream",
       "stream": "stdout",
       "text": [
        "\n",
        "36000"
       ]
      },
      {
       "output_type": "stream",
       "stream": "stdout",
       "text": [
        "  cost 0.00251006\n",
        "Model saved in file: model1/model1.ckpt-36000"
       ]
      },
      {
       "output_type": "stream",
       "stream": "stdout",
       "text": [
        "\n",
        "37000"
       ]
      },
      {
       "output_type": "stream",
       "stream": "stdout",
       "text": [
        "  cost 0.00173191\n",
        "Model saved in file: model1/model1.ckpt-37000"
       ]
      },
      {
       "output_type": "stream",
       "stream": "stdout",
       "text": [
        "\n",
        "38000"
       ]
      },
      {
       "output_type": "stream",
       "stream": "stdout",
       "text": [
        "  cost 0.00288535\n",
        "Model saved in file: model1/model1.ckpt-38000"
       ]
      },
      {
       "output_type": "stream",
       "stream": "stdout",
       "text": [
        "\n",
        "39000"
       ]
      },
      {
       "output_type": "stream",
       "stream": "stdout",
       "text": [
        "  cost 0.00233071\n",
        "Model saved in file: model1/model1.ckpt-39000"
       ]
      },
      {
       "output_type": "stream",
       "stream": "stdout",
       "text": [
        "\n",
        "40000"
       ]
      },
      {
       "output_type": "stream",
       "stream": "stdout",
       "text": [
        "  cost 0.00246923\n",
        "Model saved in file: model1/model1.ckpt-40000"
       ]
      },
      {
       "output_type": "stream",
       "stream": "stdout",
       "text": [
        "\n",
        "41000"
       ]
      },
      {
       "output_type": "stream",
       "stream": "stdout",
       "text": [
        "  cost 0.0023124\n",
        "Model saved in file: model1/model1.ckpt-41000"
       ]
      },
      {
       "output_type": "stream",
       "stream": "stdout",
       "text": [
        "\n",
        "42000"
       ]
      },
      {
       "output_type": "stream",
       "stream": "stdout",
       "text": [
        "  cost 0.00293225\n",
        "Model saved in file: model1/model1.ckpt-42000"
       ]
      },
      {
       "output_type": "stream",
       "stream": "stdout",
       "text": [
        "\n",
        "43000"
       ]
      },
      {
       "output_type": "stream",
       "stream": "stdout",
       "text": [
        "  cost 0.00344157\n",
        "Model saved in file: model1/model1.ckpt-43000"
       ]
      },
      {
       "output_type": "stream",
       "stream": "stdout",
       "text": [
        "\n",
        "44000"
       ]
      },
      {
       "output_type": "stream",
       "stream": "stdout",
       "text": [
        "  cost 0.00276636\n",
        "Model saved in file: model1/model1.ckpt-44000"
       ]
      },
      {
       "output_type": "stream",
       "stream": "stdout",
       "text": [
        "\n",
        "45000"
       ]
      },
      {
       "output_type": "stream",
       "stream": "stdout",
       "text": [
        "  cost 0.00192218\n",
        "Model saved in file: model1/model1.ckpt-45000"
       ]
      },
      {
       "output_type": "stream",
       "stream": "stdout",
       "text": [
        "\n",
        "46000"
       ]
      },
      {
       "output_type": "stream",
       "stream": "stdout",
       "text": [
        "  cost 0.00269551\n",
        "Model saved in file: model1/model1.ckpt-46000"
       ]
      },
      {
       "output_type": "stream",
       "stream": "stdout",
       "text": [
        "\n",
        "47000"
       ]
      },
      {
       "output_type": "stream",
       "stream": "stdout",
       "text": [
        "  cost 0.00235024\n",
        "Model saved in file: model1/model1.ckpt-47000"
       ]
      },
      {
       "output_type": "stream",
       "stream": "stdout",
       "text": [
        "\n",
        "48000"
       ]
      },
      {
       "output_type": "stream",
       "stream": "stdout",
       "text": [
        "  cost 0.0026357\n",
        "Model saved in file: model1/model1.ckpt-48000"
       ]
      },
      {
       "output_type": "stream",
       "stream": "stdout",
       "text": [
        "\n",
        "49000"
       ]
      },
      {
       "output_type": "stream",
       "stream": "stdout",
       "text": [
        "  cost 0.00174723\n",
        "Model saved in file: model1/model1.ckpt-49000"
       ]
      },
      {
       "output_type": "stream",
       "stream": "stdout",
       "text": [
        "\n",
        "50000"
       ]
      },
      {
       "output_type": "stream",
       "stream": "stdout",
       "text": [
        "  cost 0.00262957\n",
        "Model saved in file: model1/model1.ckpt-50000"
       ]
      },
      {
       "output_type": "stream",
       "stream": "stdout",
       "text": [
        "\n",
        "51000"
       ]
      },
      {
       "output_type": "stream",
       "stream": "stdout",
       "text": [
        "  cost 0.0025209\n",
        "Model saved in file: model1/model1.ckpt-51000"
       ]
      },
      {
       "output_type": "stream",
       "stream": "stdout",
       "text": [
        "\n",
        "52000"
       ]
      },
      {
       "output_type": "stream",
       "stream": "stdout",
       "text": [
        "  cost 0.00241376\n",
        "Model saved in file: model1/model1.ckpt-52000"
       ]
      },
      {
       "output_type": "stream",
       "stream": "stdout",
       "text": [
        "\n",
        "53000"
       ]
      },
      {
       "output_type": "stream",
       "stream": "stdout",
       "text": [
        "  cost 0.00264362\n",
        "Model saved in file: model1/model1.ckpt-53000"
       ]
      },
      {
       "output_type": "stream",
       "stream": "stdout",
       "text": [
        "\n",
        "54000"
       ]
      },
      {
       "output_type": "stream",
       "stream": "stdout",
       "text": [
        "  cost 0.00182308\n",
        "Model saved in file: model1/model1.ckpt-54000"
       ]
      },
      {
       "output_type": "stream",
       "stream": "stdout",
       "text": [
        "\n",
        "55000"
       ]
      },
      {
       "output_type": "stream",
       "stream": "stdout",
       "text": [
        "  cost 0.00246418\n",
        "Model saved in file: model1/model1.ckpt-55000"
       ]
      },
      {
       "output_type": "stream",
       "stream": "stdout",
       "text": [
        "\n",
        "56000"
       ]
      },
      {
       "output_type": "stream",
       "stream": "stdout",
       "text": [
        "  cost 0.00227107\n",
        "Model saved in file: model1/model1.ckpt-56000"
       ]
      },
      {
       "output_type": "stream",
       "stream": "stdout",
       "text": [
        "\n",
        "57000"
       ]
      },
      {
       "output_type": "stream",
       "stream": "stdout",
       "text": [
        "  cost 0.00235179\n",
        "Model saved in file: model1/model1.ckpt-57000"
       ]
      },
      {
       "output_type": "stream",
       "stream": "stdout",
       "text": [
        "\n",
        "58000"
       ]
      },
      {
       "output_type": "stream",
       "stream": "stdout",
       "text": [
        "  cost 0.00262787\n",
        "Model saved in file: model1/model1.ckpt-58000"
       ]
      },
      {
       "output_type": "stream",
       "stream": "stdout",
       "text": [
        "\n",
        "59000"
       ]
      },
      {
       "output_type": "stream",
       "stream": "stdout",
       "text": [
        "  cost 0.00235043\n",
        "Model saved in file: model1/model1.ckpt-59000"
       ]
      },
      {
       "output_type": "stream",
       "stream": "stdout",
       "text": [
        "\n",
        "60000"
       ]
      },
      {
       "output_type": "stream",
       "stream": "stdout",
       "text": [
        "  cost 0.0025342\n",
        "Model saved in file: model1/model1.ckpt-60000"
       ]
      },
      {
       "output_type": "stream",
       "stream": "stdout",
       "text": [
        "\n",
        "61000"
       ]
      },
      {
       "output_type": "stream",
       "stream": "stdout",
       "text": [
        "  cost 0.00214687\n",
        "Model saved in file: model1/model1.ckpt-61000"
       ]
      },
      {
       "output_type": "stream",
       "stream": "stdout",
       "text": [
        "\n",
        "62000"
       ]
      },
      {
       "output_type": "stream",
       "stream": "stdout",
       "text": [
        "  cost 0.00169189\n",
        "Model saved in file: model1/model1.ckpt-62000"
       ]
      },
      {
       "output_type": "stream",
       "stream": "stdout",
       "text": [
        "\n",
        "63000"
       ]
      },
      {
       "output_type": "stream",
       "stream": "stdout",
       "text": [
        "  cost 0.00198805\n",
        "Model saved in file: model1/model1.ckpt-63000"
       ]
      },
      {
       "output_type": "stream",
       "stream": "stdout",
       "text": [
        "\n",
        "64000"
       ]
      },
      {
       "output_type": "stream",
       "stream": "stdout",
       "text": [
        "  cost 0.0013858\n",
        "Model saved in file: model1/model1.ckpt-64000"
       ]
      },
      {
       "output_type": "stream",
       "stream": "stdout",
       "text": [
        "\n",
        "65000"
       ]
      },
      {
       "output_type": "stream",
       "stream": "stdout",
       "text": [
        "  cost 0.00166967\n",
        "Model saved in file: model1/model1.ckpt-65000"
       ]
      },
      {
       "output_type": "stream",
       "stream": "stdout",
       "text": [
        "\n",
        "66000"
       ]
      },
      {
       "output_type": "stream",
       "stream": "stdout",
       "text": [
        "  cost 0.0028294\n",
        "Model saved in file: model1/model1.ckpt-66000"
       ]
      },
      {
       "output_type": "stream",
       "stream": "stdout",
       "text": [
        "\n",
        "67000"
       ]
      },
      {
       "output_type": "stream",
       "stream": "stdout",
       "text": [
        "  cost 0.00268331\n",
        "Model saved in file: model1/model1.ckpt-67000"
       ]
      },
      {
       "output_type": "stream",
       "stream": "stdout",
       "text": [
        "\n",
        "68000"
       ]
      },
      {
       "output_type": "stream",
       "stream": "stdout",
       "text": [
        "  cost 0.00216689\n",
        "Model saved in file: model1/model1.ckpt-68000"
       ]
      },
      {
       "output_type": "stream",
       "stream": "stdout",
       "text": [
        "\n",
        "69000"
       ]
      },
      {
       "output_type": "stream",
       "stream": "stdout",
       "text": [
        "  cost 0.00172412\n",
        "Model saved in file: model1/model1.ckpt-69000"
       ]
      },
      {
       "output_type": "stream",
       "stream": "stdout",
       "text": [
        "\n",
        "70000"
       ]
      },
      {
       "output_type": "stream",
       "stream": "stdout",
       "text": [
        "  cost 0.00262289\n",
        "Model saved in file: model1/model1.ckpt-70000"
       ]
      },
      {
       "output_type": "stream",
       "stream": "stdout",
       "text": [
        "\n",
        "71000"
       ]
      },
      {
       "output_type": "stream",
       "stream": "stdout",
       "text": [
        "  cost 0.00267489\n",
        "Model saved in file: model1/model1.ckpt-71000"
       ]
      },
      {
       "output_type": "stream",
       "stream": "stdout",
       "text": [
        "\n",
        "72000"
       ]
      },
      {
       "output_type": "stream",
       "stream": "stdout",
       "text": [
        "  cost 0.00216432\n",
        "Model saved in file: model1/model1.ckpt-72000"
       ]
      },
      {
       "output_type": "stream",
       "stream": "stdout",
       "text": [
        "\n",
        "73000"
       ]
      },
      {
       "output_type": "stream",
       "stream": "stdout",
       "text": [
        "  cost 0.00233467\n",
        "Model saved in file: model1/model1.ckpt-73000"
       ]
      },
      {
       "output_type": "stream",
       "stream": "stdout",
       "text": [
        "\n",
        "74000"
       ]
      },
      {
       "output_type": "stream",
       "stream": "stdout",
       "text": [
        "  cost 0.00215986\n",
        "Model saved in file: model1/model1.ckpt-74000"
       ]
      },
      {
       "output_type": "stream",
       "stream": "stdout",
       "text": [
        "\n",
        "75000"
       ]
      },
      {
       "output_type": "stream",
       "stream": "stdout",
       "text": [
        "  cost 0.00188144\n",
        "Model saved in file: model1/model1.ckpt-75000"
       ]
      },
      {
       "output_type": "stream",
       "stream": "stdout",
       "text": [
        "\n",
        "76000"
       ]
      },
      {
       "output_type": "stream",
       "stream": "stdout",
       "text": [
        "  cost 0.00147328\n",
        "Model saved in file: model1/model1.ckpt-76000"
       ]
      },
      {
       "output_type": "stream",
       "stream": "stdout",
       "text": [
        "\n",
        "77000"
       ]
      },
      {
       "output_type": "stream",
       "stream": "stdout",
       "text": [
        "  cost 0.00118496\n",
        "Model saved in file: model1/model1.ckpt-77000"
       ]
      },
      {
       "output_type": "stream",
       "stream": "stdout",
       "text": [
        "\n",
        "78000"
       ]
      },
      {
       "output_type": "stream",
       "stream": "stdout",
       "text": [
        "  cost 0.00240639\n",
        "Model saved in file: model1/model1.ckpt-78000"
       ]
      },
      {
       "output_type": "stream",
       "stream": "stdout",
       "text": [
        "\n",
        "79000"
       ]
      },
      {
       "output_type": "stream",
       "stream": "stdout",
       "text": [
        "  cost 0.0012895\n",
        "Model saved in file: model1/model1.ckpt-79000"
       ]
      },
      {
       "output_type": "stream",
       "stream": "stdout",
       "text": [
        "\n",
        "80000"
       ]
      },
      {
       "output_type": "stream",
       "stream": "stdout",
       "text": [
        "  cost 0.00170357\n",
        "Model saved in file: model1/model1.ckpt-80000"
       ]
      },
      {
       "output_type": "stream",
       "stream": "stdout",
       "text": [
        "\n",
        "81000"
       ]
      },
      {
       "output_type": "stream",
       "stream": "stdout",
       "text": [
        "  cost 0.00156032\n",
        "Model saved in file: model1/model1.ckpt-81000"
       ]
      },
      {
       "output_type": "stream",
       "stream": "stdout",
       "text": [
        "\n",
        "82000"
       ]
      },
      {
       "output_type": "stream",
       "stream": "stdout",
       "text": [
        "  cost 0.0019488\n",
        "Model saved in file: model1/model1.ckpt-82000"
       ]
      },
      {
       "output_type": "stream",
       "stream": "stdout",
       "text": [
        "\n",
        "83000"
       ]
      },
      {
       "output_type": "stream",
       "stream": "stdout",
       "text": [
        "  cost 0.00288089\n",
        "Model saved in file: model1/model1.ckpt-83000"
       ]
      },
      {
       "output_type": "stream",
       "stream": "stdout",
       "text": [
        "\n",
        "84000"
       ]
      },
      {
       "output_type": "stream",
       "stream": "stdout",
       "text": [
        "  cost 0.00313095\n",
        "Model saved in file: model1/model1.ckpt-84000"
       ]
      },
      {
       "output_type": "stream",
       "stream": "stdout",
       "text": [
        "\n",
        "85000"
       ]
      },
      {
       "output_type": "stream",
       "stream": "stdout",
       "text": [
        "  cost 0.00224211\n",
        "Model saved in file: model1/model1.ckpt-85000"
       ]
      },
      {
       "output_type": "stream",
       "stream": "stdout",
       "text": [
        "\n",
        "86000"
       ]
      },
      {
       "output_type": "stream",
       "stream": "stdout",
       "text": [
        "  cost 0.00186338\n",
        "Model saved in file: model1/model1.ckpt-86000"
       ]
      },
      {
       "output_type": "stream",
       "stream": "stdout",
       "text": [
        "\n",
        "87000"
       ]
      },
      {
       "output_type": "stream",
       "stream": "stdout",
       "text": [
        "  cost 0.00191803\n",
        "Model saved in file: model1/model1.ckpt-87000"
       ]
      },
      {
       "output_type": "stream",
       "stream": "stdout",
       "text": [
        "\n",
        "88000"
       ]
      },
      {
       "output_type": "stream",
       "stream": "stdout",
       "text": [
        "  cost 0.00167366\n",
        "Model saved in file: model1/model1.ckpt-88000"
       ]
      },
      {
       "output_type": "stream",
       "stream": "stdout",
       "text": [
        "\n",
        "89000"
       ]
      },
      {
       "output_type": "stream",
       "stream": "stdout",
       "text": [
        "  cost 0.00163689\n",
        "Model saved in file: model1/model1.ckpt-89000"
       ]
      },
      {
       "output_type": "stream",
       "stream": "stdout",
       "text": [
        "\n",
        "90000"
       ]
      },
      {
       "output_type": "stream",
       "stream": "stdout",
       "text": [
        "  cost 0.00207433\n",
        "Model saved in file: model1/model1.ckpt-90000"
       ]
      },
      {
       "output_type": "stream",
       "stream": "stdout",
       "text": [
        "\n",
        "91000"
       ]
      },
      {
       "output_type": "stream",
       "stream": "stdout",
       "text": [
        "  cost 0.00240702\n",
        "Model saved in file: model1/model1.ckpt-91000"
       ]
      },
      {
       "output_type": "stream",
       "stream": "stdout",
       "text": [
        "\n",
        "92000"
       ]
      },
      {
       "output_type": "stream",
       "stream": "stdout",
       "text": [
        "  cost 0.00229085\n",
        "Model saved in file: model1/model1.ckpt-92000"
       ]
      },
      {
       "output_type": "stream",
       "stream": "stdout",
       "text": [
        "\n",
        "93000"
       ]
      },
      {
       "output_type": "stream",
       "stream": "stdout",
       "text": [
        "  cost 0.00247526\n",
        "Model saved in file: model1/model1.ckpt-93000"
       ]
      },
      {
       "output_type": "stream",
       "stream": "stdout",
       "text": [
        "\n",
        "94000"
       ]
      },
      {
       "output_type": "stream",
       "stream": "stdout",
       "text": [
        "  cost 0.00137418\n",
        "Model saved in file: model1/model1.ckpt-94000"
       ]
      },
      {
       "output_type": "stream",
       "stream": "stdout",
       "text": [
        "\n",
        "95000"
       ]
      },
      {
       "output_type": "stream",
       "stream": "stdout",
       "text": [
        "  cost 0.00200869\n",
        "Model saved in file: model1/model1.ckpt-95000"
       ]
      },
      {
       "output_type": "stream",
       "stream": "stdout",
       "text": [
        "\n",
        "96000"
       ]
      },
      {
       "output_type": "stream",
       "stream": "stdout",
       "text": [
        "  cost 0.00112519\n",
        "Model saved in file: model1/model1.ckpt-96000"
       ]
      },
      {
       "output_type": "stream",
       "stream": "stdout",
       "text": [
        "\n",
        "97000"
       ]
      },
      {
       "output_type": "stream",
       "stream": "stdout",
       "text": [
        "  cost 0.00203681\n",
        "Model saved in file: model1/model1.ckpt-97000"
       ]
      },
      {
       "output_type": "stream",
       "stream": "stdout",
       "text": [
        "\n",
        "98000"
       ]
      },
      {
       "output_type": "stream",
       "stream": "stdout",
       "text": [
        "  cost 0.00180397\n",
        "Model saved in file: model1/model1.ckpt-98000"
       ]
      },
      {
       "output_type": "stream",
       "stream": "stdout",
       "text": [
        "\n",
        "99000"
       ]
      },
      {
       "output_type": "stream",
       "stream": "stdout",
       "text": [
        "  cost 0.00191262\n",
        "Model saved in file: model1/model1.ckpt-99000"
       ]
      },
      {
       "output_type": "stream",
       "stream": "stdout",
       "text": [
        "\n",
        "100000"
       ]
      },
      {
       "output_type": "stream",
       "stream": "stdout",
       "text": [
        "  cost 0.00176876\n",
        "Model saved in file: model1/model1.ckpt-100000"
       ]
      },
      {
       "output_type": "stream",
       "stream": "stdout",
       "text": [
        "\n",
        "101000"
       ]
      },
      {
       "output_type": "stream",
       "stream": "stdout",
       "text": [
        "  cost 0.00288568\n",
        "Model saved in file: model1/model1.ckpt-101000"
       ]
      },
      {
       "output_type": "stream",
       "stream": "stdout",
       "text": [
        "\n"
       ]
      }
     ],
     "prompt_number": 34
    },
    {
     "cell_type": "code",
     "collapsed": false,
     "input": [
      "saver = tf.train.Saver()\n",
      "with tf.Session() as sess:\n",
      "  # Restore variables from disk.\n",
      "  saver.restore(sess, \"model1/model1.ckpt-100000\")\n",
      "  print(\"Model restored.\")\n",
      "  f = open(argsdataset);\n",
      "  reader = csv.reader(f)\n",
      "  X_train = np.array([], dtype=np.float).reshape(0,128);\n",
      "  for i in xrange(flen):\n",
      "    batch = []\n",
      "    for j in range(1):\n",
      "        batch = readfile(reader);\n",
      "        batch = np.array(batch);\n",
      "        out = sess.run(autoencoder['encoded'], feed_dict={x: batch});\n",
      "        X_train = np.vstack((X_train,out));\n",
      "print(X_train.shape)\n",
      "from sklearn.neighbors import LSHForest\n",
      "import pickle\n",
      "lshf = LSHForest();\n",
      "lshf.fit(X_train) ;\n",
      "pickle.dump(lshf,open( \"model1/LSFModelsave.p\", \"wb\" ));\n",
      "lshfr = pickle.load( open( \"model1/LSFModelsave.p\", \"rb\" ) )\n"
     ],
     "language": "python",
     "metadata": {},
     "outputs": []
    },
    {
     "cell_type": "code",
     "collapsed": false,
     "input": [
      "f = open(argsdataset);\n",
      "reader = csv.reader(f)\n",
      "batch = readfile(reader);\n",
      "sess = tf.Session()  \n",
      "saver.restore(sess, \"./model1.ckpt-0\")\n",
      "batch = np.array(batch);\n",
      "out = sess.run(autoencoder['encoded'], feed_dict={x: batch});\n",
      "dist, approx_neighbors = lshfr.kneighbors(out, n_neighbors=10)\n",
      "print(dist)\n",
      "print(approx_neighbors);"
     ],
     "language": "python",
     "metadata": {},
     "outputs": []
    },
    {
     "cell_type": "code",
     "collapsed": false,
     "input": [
      "import tensorflow as tf\n",
      "\n",
      "# Parameters\n",
      "f = open(argsdataset);\n",
      "reader = csv.reader(f)\n",
      "learning_rate = 0.01\n",
      "training_epochs = 1\n",
      "batch_size = 10\n",
      "display_step = 1000\n",
      "\n",
      "# Network Parameters\n",
      "n_hidden_1 = 512 # 1st layer num features\n",
      "n_hidden_2 = 128 # 2nd layer num features\n",
      "n_input = input_dim_used #\n",
      "\n",
      "# tf Graph input (only pictures)\n",
      "X = tf.placeholder(\"float\", [None, n_input])\n",
      "\n",
      "weights = {\n",
      "    'encoder_h1': tf.Variable(tf.random_normal([n_input, n_hidden_1], name = \"eh1\"),\n",
      "    'encoder_h2': tf.Variable(tf.random_normal([n_hidden_1, n_hidden_2], name = \"eh2\")),\n",
      "    'decoder_h1': tf.Variable(tf.random_normal([n_hidden_2, n_hidden_1], name = \"dh1\")),\n",
      "    'decoder_h2': tf.Variable(tf.random_normal([n_hidden_1, n_input], name = \"dh2\")),\n",
      "}\n",
      "biases = {\n",
      "    'encoder_b1': tf.Variable(tf.random_normal([n_hidden_1], name = \"eb1\")),\n",
      "    'encoder_b2': tf.Variable(tf.random_normal([n_hidden_2]), name = \"eb2\"),\n",
      "    'decoder_b1': tf.Variable(tf.random_normal([n_hidden_1]), name = \"db2\"),\n",
      "    'decoder_b2': tf.Variable(tf.random_normal([n_input], name = \"db2\")),\n",
      "}\n",
      "\n",
      "\n",
      "# Building the encoder\n",
      "def encoder(x):\n",
      "    # Encoder Hidden layer with sigmoid activation #1\n",
      "    layer_1 = tf.nn.sigmoid(tf.add(tf.matmul(x, weights['encoder_h1']),\n",
      "                                   biases['encoder_b1']))\n",
      "    # Decoder Hidden layer with sigmoid activation #2\n",
      "    layer_2 = tf.nn.sigmoid(tf.add(tf.matmul(layer_1, weights['encoder_h2']),\n",
      "                                   biases['encoder_b2']))\n",
      "    return layer_2\n",
      "\n",
      "\n",
      "# Building the decoder\n",
      "def decoder(x):\n",
      "    # Encoder Hidden layer with sigmoid activation #1\n",
      "    layer_1 = tf.nn.sigmoid(tf.add(tf.matmul(x, weights['decoder_h1']),\n",
      "                                   biases['decoder_b1']))\n",
      "    # Decoder Hidden layer with sigmoid activation #2\n",
      "    layer_2 = tf.nn.sigmoid(tf.add(tf.matmul(layer_1, weights['decoder_h2']),\n",
      "                                   biases['decoder_b2']))\n",
      "    return layer_2\n",
      "\n",
      "# Construct model\n",
      "encoder_op = encoder(X)\n",
      "decoder_op = decoder(encoder_op)\n",
      "\n",
      "# Prediction\n",
      "y_pred = decoder_op\n",
      "# Targets (Labels) are the input data.\n",
      "y_true = X\n"
     ],
     "language": "python",
     "metadata": {},
     "outputs": [],
     "prompt_number": 7
    },
    {
     "cell_type": "code",
     "collapsed": false,
     "input": [],
     "language": "python",
     "metadata": {},
     "outputs": [],
     "prompt_number": 5
    },
    {
     "cell_type": "code",
     "collapsed": false,
     "input": [
      "\n",
      "# Define loss and optimizer, minimize the squared error\n",
      "cost = tf.reduce_mean(tf.pow(y_true - y_pred, 2))\n",
      "optimizer = tf.train.RMSPropOptimizer(learning_rate).minimize(cost)\n",
      "\n",
      "\n",
      "# In[8]:\n",
      "\n",
      "# Initializing the variables\n",
      "init = tf.global_variables_initializer()\n",
      "saver2 = tf.train.Saver()\n",
      "\n",
      "# Launch the graph\n",
      "with tf.Session() as sess:\n",
      "    sess.run(init)\n",
      "    total_batch = int(flen/batch_size);\n",
      "    print(training_epochs);\n",
      "    # Training cycle\n",
      "  #  for epoch in range(training_epochs):\n",
      "        # Loop over all batches\n",
      "    for epoch in range(total_batch):\n",
      "            batch_xs =readfileFromdict(Filelist,batch_size)\n",
      "            # Run optimization op (backprop) and cost op (to get loss value)\n",
      "            _, c = sess.run([optimizer, cost], feed_dict={X: np.array(batch_xs)})\n",
      "        # Display logs per epoch step\n",
      "            if epoch % display_step == 0:\n",
      "              print(\"Epoch:\", '%04d' % (epoch+1),\n",
      "                  \"cost=\", \"{:.9f}\".format(c))\n",
      "              save_path = saver2.save(sess, \"model2/model1.ckpt\",global_step = epoch)\n",
      "\n",
      "\n",
      "    print(\"Optimization Finished!\")\n",
      "\n",
      "    print(\"Model2 saved in file: %s\" % save_path)\n"
     ],
     "language": "python",
     "metadata": {},
     "outputs": [
      {
       "output_type": "stream",
       "stream": "stdout",
       "text": [
        "1\n",
        "Epoch:"
       ]
      },
      {
       "output_type": "stream",
       "stream": "stdout",
       "text": [
        " 0001 cost= 0.469999820\n",
        "Epoch:"
       ]
      },
      {
       "output_type": "stream",
       "stream": "stdout",
       "text": [
        " 1001 cost= 0.268577665\n",
        "Epoch:"
       ]
      },
      {
       "output_type": "stream",
       "stream": "stdout",
       "text": [
        " 2001 cost= 0.251276076\n",
        "Epoch:"
       ]
      },
      {
       "output_type": "stream",
       "stream": "stdout",
       "text": [
        " 3001 cost= 0.242244527\n",
        "Epoch:"
       ]
      },
      {
       "output_type": "stream",
       "stream": "stdout",
       "text": [
        " 4001 cost= 0.236172214\n",
        "Epoch:"
       ]
      },
      {
       "output_type": "stream",
       "stream": "stdout",
       "text": [
        " 5001 cost= 0.231029153\n",
        "Epoch:"
       ]
      },
      {
       "output_type": "stream",
       "stream": "stdout",
       "text": [
        " 6001 cost= 0.226571217\n",
        "Epoch:"
       ]
      },
      {
       "output_type": "stream",
       "stream": "stdout",
       "text": [
        " 7001 cost= 0.223762751\n",
        "Epoch:"
       ]
      },
      {
       "output_type": "stream",
       "stream": "stdout",
       "text": [
        " 8001 cost= 0.221468598\n",
        "Epoch:"
       ]
      },
      {
       "output_type": "stream",
       "stream": "stdout",
       "text": [
        " 9001 cost= 0.219085827\n",
        "Epoch:"
       ]
      },
      {
       "output_type": "stream",
       "stream": "stdout",
       "text": [
        " 10001 cost= 0.216665924\n",
        "Optimization Finished!"
       ]
      },
      {
       "output_type": "stream",
       "stream": "stdout",
       "text": [
        "\n",
        "Model2 saved in file: model2/model1.ckpt-10000\n"
       ]
      }
     ],
     "prompt_number": 16
    },
    {
     "cell_type": "code",
     "collapsed": false,
     "input": [
      "\n",
      "saver = tf.train.Saver()\n",
      "sess = tf.Session();\n",
      "if 1:\n",
      "  # Restore variables from disk.\n",
      "  saver.restore(sess, \"model2/model1.ckpt-10000\")\n",
      "  print(\"Model restored.\")\n",
      "  f = open(argsdataset);\n",
      "  reader = csv.reader(f)\n",
      "  X_train = np.array([], dtype=np.float).reshape(0,128);\n",
      "  for i in xrange(flen):\n",
      "    batch = []\n",
      "    for j in range(1):\n",
      "        if i % 1000 == 0:\n",
      "            print(i);\n",
      "        batch = readfile(reader);\n",
      "        batch = np.array(batch);\n",
      "        encode_decode = sess.run(\n",
      "        encoder_op, feed_dict={X: batch})\n",
      "        X_train = np.vstack((X_train,encode_decode));"
     ],
     "language": "python",
     "metadata": {},
     "outputs": [
      {
       "output_type": "stream",
       "stream": "stdout",
       "text": [
        "Model restored.\n",
        "0\n",
        "1000"
       ]
      },
      {
       "output_type": "stream",
       "stream": "stdout",
       "text": [
        "\n",
        "2000"
       ]
      },
      {
       "output_type": "stream",
       "stream": "stdout",
       "text": [
        "\n",
        "3000"
       ]
      },
      {
       "output_type": "stream",
       "stream": "stdout",
       "text": [
        "\n",
        "4000"
       ]
      },
      {
       "output_type": "stream",
       "stream": "stdout",
       "text": [
        "\n",
        "5000"
       ]
      },
      {
       "output_type": "stream",
       "stream": "stdout",
       "text": [
        "\n",
        "6000"
       ]
      },
      {
       "output_type": "stream",
       "stream": "stdout",
       "text": [
        "\n",
        "7000"
       ]
      },
      {
       "output_type": "stream",
       "stream": "stdout",
       "text": [
        "\n",
        "8000"
       ]
      },
      {
       "output_type": "stream",
       "stream": "stdout",
       "text": [
        "\n",
        "9000"
       ]
      },
      {
       "output_type": "stream",
       "stream": "stdout",
       "text": [
        "\n",
        "10000"
       ]
      },
      {
       "output_type": "stream",
       "stream": "stdout",
       "text": [
        "\n",
        "11000"
       ]
      },
      {
       "output_type": "stream",
       "stream": "stdout",
       "text": [
        "\n",
        "12000"
       ]
      },
      {
       "output_type": "stream",
       "stream": "stdout",
       "text": [
        "\n",
        "13000"
       ]
      },
      {
       "output_type": "stream",
       "stream": "stdout",
       "text": [
        "\n",
        "14000"
       ]
      },
      {
       "output_type": "stream",
       "stream": "stdout",
       "text": [
        "\n",
        "15000"
       ]
      },
      {
       "output_type": "stream",
       "stream": "stdout",
       "text": [
        "\n",
        "16000"
       ]
      },
      {
       "output_type": "stream",
       "stream": "stdout",
       "text": [
        "\n",
        "17000"
       ]
      },
      {
       "output_type": "stream",
       "stream": "stdout",
       "text": [
        "\n",
        "18000"
       ]
      },
      {
       "output_type": "stream",
       "stream": "stdout",
       "text": [
        "\n",
        "19000"
       ]
      },
      {
       "output_type": "stream",
       "stream": "stdout",
       "text": [
        "\n",
        "20000"
       ]
      },
      {
       "output_type": "stream",
       "stream": "stdout",
       "text": [
        "\n",
        "21000"
       ]
      },
      {
       "output_type": "stream",
       "stream": "stdout",
       "text": [
        "\n",
        "22000"
       ]
      },
      {
       "output_type": "stream",
       "stream": "stdout",
       "text": [
        "\n",
        "23000"
       ]
      },
      {
       "output_type": "stream",
       "stream": "stdout",
       "text": [
        "\n",
        "24000"
       ]
      },
      {
       "output_type": "stream",
       "stream": "stdout",
       "text": [
        "\n",
        "25000"
       ]
      },
      {
       "output_type": "stream",
       "stream": "stdout",
       "text": [
        "\n",
        "26000"
       ]
      },
      {
       "output_type": "stream",
       "stream": "stdout",
       "text": [
        "\n",
        "27000"
       ]
      },
      {
       "output_type": "stream",
       "stream": "stdout",
       "text": [
        "\n",
        "28000"
       ]
      },
      {
       "output_type": "stream",
       "stream": "stdout",
       "text": [
        "\n",
        "29000"
       ]
      },
      {
       "output_type": "stream",
       "stream": "stdout",
       "text": [
        "\n",
        "30000"
       ]
      },
      {
       "output_type": "stream",
       "stream": "stdout",
       "text": [
        "\n",
        "31000"
       ]
      },
      {
       "output_type": "stream",
       "stream": "stdout",
       "text": [
        "\n",
        "32000"
       ]
      },
      {
       "output_type": "stream",
       "stream": "stdout",
       "text": [
        "\n",
        "33000"
       ]
      },
      {
       "output_type": "stream",
       "stream": "stdout",
       "text": [
        "\n",
        "34000"
       ]
      },
      {
       "output_type": "stream",
       "stream": "stdout",
       "text": [
        "\n",
        "35000"
       ]
      },
      {
       "output_type": "stream",
       "stream": "stdout",
       "text": [
        "\n",
        "36000"
       ]
      },
      {
       "output_type": "stream",
       "stream": "stdout",
       "text": [
        "\n",
        "37000"
       ]
      },
      {
       "output_type": "stream",
       "stream": "stdout",
       "text": [
        "\n",
        "38000"
       ]
      },
      {
       "output_type": "stream",
       "stream": "stdout",
       "text": [
        "\n",
        "39000"
       ]
      },
      {
       "output_type": "stream",
       "stream": "stdout",
       "text": [
        "\n",
        "40000"
       ]
      },
      {
       "output_type": "stream",
       "stream": "stdout",
       "text": [
        "\n",
        "41000"
       ]
      },
      {
       "output_type": "stream",
       "stream": "stdout",
       "text": [
        "\n",
        "42000"
       ]
      },
      {
       "output_type": "stream",
       "stream": "stdout",
       "text": [
        "\n",
        "43000"
       ]
      },
      {
       "output_type": "stream",
       "stream": "stdout",
       "text": [
        "\n",
        "44000"
       ]
      },
      {
       "output_type": "stream",
       "stream": "stdout",
       "text": [
        "\n",
        "45000"
       ]
      },
      {
       "output_type": "stream",
       "stream": "stdout",
       "text": [
        "\n",
        "46000"
       ]
      },
      {
       "output_type": "stream",
       "stream": "stdout",
       "text": [
        "\n",
        "47000"
       ]
      },
      {
       "output_type": "stream",
       "stream": "stdout",
       "text": [
        "\n",
        "48000"
       ]
      },
      {
       "output_type": "stream",
       "stream": "stdout",
       "text": [
        "\n",
        "49000"
       ]
      },
      {
       "output_type": "stream",
       "stream": "stdout",
       "text": [
        "\n",
        "50000"
       ]
      },
      {
       "output_type": "stream",
       "stream": "stdout",
       "text": [
        "\n",
        "51000"
       ]
      },
      {
       "output_type": "stream",
       "stream": "stdout",
       "text": [
        "\n",
        "52000"
       ]
      },
      {
       "output_type": "stream",
       "stream": "stdout",
       "text": [
        "\n",
        "53000"
       ]
      },
      {
       "output_type": "stream",
       "stream": "stdout",
       "text": [
        "\n",
        "54000"
       ]
      },
      {
       "output_type": "stream",
       "stream": "stdout",
       "text": [
        "\n",
        "55000"
       ]
      },
      {
       "output_type": "stream",
       "stream": "stdout",
       "text": [
        "\n",
        "56000"
       ]
      },
      {
       "output_type": "stream",
       "stream": "stdout",
       "text": [
        "\n",
        "57000"
       ]
      },
      {
       "output_type": "stream",
       "stream": "stdout",
       "text": [
        "\n",
        "58000"
       ]
      },
      {
       "output_type": "stream",
       "stream": "stdout",
       "text": [
        "\n",
        "59000"
       ]
      },
      {
       "output_type": "stream",
       "stream": "stdout",
       "text": [
        "\n",
        "60000"
       ]
      },
      {
       "output_type": "stream",
       "stream": "stdout",
       "text": [
        "\n",
        "61000"
       ]
      },
      {
       "output_type": "stream",
       "stream": "stdout",
       "text": [
        "\n",
        "62000"
       ]
      },
      {
       "output_type": "stream",
       "stream": "stdout",
       "text": [
        "\n",
        "63000"
       ]
      },
      {
       "output_type": "stream",
       "stream": "stdout",
       "text": [
        "\n",
        "64000"
       ]
      },
      {
       "output_type": "stream",
       "stream": "stdout",
       "text": [
        "\n",
        "65000"
       ]
      },
      {
       "output_type": "stream",
       "stream": "stdout",
       "text": [
        "\n",
        "66000"
       ]
      },
      {
       "output_type": "stream",
       "stream": "stdout",
       "text": [
        "\n",
        "67000"
       ]
      },
      {
       "output_type": "stream",
       "stream": "stdout",
       "text": [
        "\n",
        "68000"
       ]
      },
      {
       "output_type": "stream",
       "stream": "stdout",
       "text": [
        "\n",
        "69000"
       ]
      },
      {
       "output_type": "stream",
       "stream": "stdout",
       "text": [
        "\n",
        "70000"
       ]
      },
      {
       "output_type": "stream",
       "stream": "stdout",
       "text": [
        "\n",
        "71000"
       ]
      },
      {
       "output_type": "stream",
       "stream": "stdout",
       "text": [
        "\n",
        "72000"
       ]
      },
      {
       "output_type": "stream",
       "stream": "stdout",
       "text": [
        "\n",
        "73000"
       ]
      },
      {
       "output_type": "stream",
       "stream": "stdout",
       "text": [
        "\n",
        "74000"
       ]
      },
      {
       "output_type": "stream",
       "stream": "stdout",
       "text": [
        "\n",
        "75000"
       ]
      },
      {
       "output_type": "stream",
       "stream": "stdout",
       "text": [
        "\n",
        "76000"
       ]
      },
      {
       "output_type": "stream",
       "stream": "stdout",
       "text": [
        "\n",
        "77000"
       ]
      },
      {
       "output_type": "stream",
       "stream": "stdout",
       "text": [
        "\n",
        "78000"
       ]
      },
      {
       "output_type": "stream",
       "stream": "stdout",
       "text": [
        "\n",
        "79000"
       ]
      },
      {
       "output_type": "stream",
       "stream": "stdout",
       "text": [
        "\n",
        "80000"
       ]
      },
      {
       "output_type": "stream",
       "stream": "stdout",
       "text": [
        "\n",
        "81000"
       ]
      },
      {
       "output_type": "stream",
       "stream": "stdout",
       "text": [
        "\n",
        "82000"
       ]
      },
      {
       "output_type": "stream",
       "stream": "stdout",
       "text": [
        "\n",
        "83000"
       ]
      },
      {
       "output_type": "stream",
       "stream": "stdout",
       "text": [
        "\n",
        "84000"
       ]
      },
      {
       "output_type": "stream",
       "stream": "stdout",
       "text": [
        "\n",
        "85000"
       ]
      },
      {
       "output_type": "stream",
       "stream": "stdout",
       "text": [
        "\n",
        "86000"
       ]
      },
      {
       "output_type": "stream",
       "stream": "stdout",
       "text": [
        "\n",
        "87000"
       ]
      },
      {
       "output_type": "stream",
       "stream": "stdout",
       "text": [
        "\n",
        "88000"
       ]
      },
      {
       "output_type": "stream",
       "stream": "stdout",
       "text": [
        "\n",
        "89000"
       ]
      },
      {
       "output_type": "stream",
       "stream": "stdout",
       "text": [
        "\n",
        "90000"
       ]
      },
      {
       "output_type": "stream",
       "stream": "stdout",
       "text": [
        "\n",
        "91000"
       ]
      },
      {
       "output_type": "stream",
       "stream": "stdout",
       "text": [
        "\n",
        "92000"
       ]
      },
      {
       "output_type": "stream",
       "stream": "stdout",
       "text": [
        "\n",
        "93000"
       ]
      },
      {
       "output_type": "stream",
       "stream": "stdout",
       "text": [
        "\n",
        "94000"
       ]
      },
      {
       "output_type": "stream",
       "stream": "stdout",
       "text": [
        "\n",
        "95000"
       ]
      },
      {
       "output_type": "stream",
       "stream": "stdout",
       "text": [
        "\n",
        "96000"
       ]
      },
      {
       "output_type": "stream",
       "stream": "stdout",
       "text": [
        "\n",
        "97000"
       ]
      },
      {
       "output_type": "stream",
       "stream": "stdout",
       "text": [
        "\n",
        "98000"
       ]
      },
      {
       "output_type": "stream",
       "stream": "stdout",
       "text": [
        "\n",
        "99000"
       ]
      },
      {
       "output_type": "stream",
       "stream": "stdout",
       "text": [
        "\n",
        "100000"
       ]
      },
      {
       "output_type": "stream",
       "stream": "stdout",
       "text": [
        "\n",
        "101000"
       ]
      },
      {
       "output_type": "stream",
       "stream": "stdout",
       "text": [
        "\n"
       ]
      }
     ],
     "prompt_number": 9
    },
    {
     "cell_type": "code",
     "collapsed": false,
     "input": [
      "\n",
      "\n",
      "print(X_train.shape)\n",
      "from sklearn.neighbors import LSHForest\n",
      "import pickle\n",
      "lshf = LSHForest();\n",
      "lshf.fit(X_train) ;\n",
      "pickle.dump(lshf,open( \"model2/LSFModel2save.p\", \"wb\" ));\n",
      "lshfr = pickle.load( open( \"model2/LSFModel2save.p\", \"rb\" ) )\n"
     ],
     "language": "python",
     "metadata": {},
     "outputs": [
      {
       "output_type": "stream",
       "stream": "stdout",
       "text": [
        "(101226, 128)\n"
       ]
      }
     ],
     "prompt_number": 10
    },
    {
     "cell_type": "code",
     "collapsed": false,
     "input": [
      "if 1:\n",
      " f = open(argsdataset);\n",
      " reader = csv.reader(f)\n",
      " batch = readfile(reader);\n",
      " batch = np.array(batch);\n",
      " out = sess.run(autoencoder['encoded'], feed_dict={x: batch});\n",
      " dist, approx_neighbors = lshfr.kneighbors(out, n_neighbors=10)\n",
      " print(dist)\n",
      " print(approx_neighbors);"
     ],
     "language": "python",
     "metadata": {},
     "outputs": []
    },
    {
     "cell_type": "code",
     "collapsed": false,
     "input": [],
     "language": "python",
     "metadata": {},
     "outputs": [],
     "prompt_number": 15
    },
    {
     "cell_type": "code",
     "collapsed": false,
     "input": [
      "\n",
      "#unclear why caffee and tensorflow cannot be used together \n",
      "cd = DeepDescriptor('inception_3a/output');\n",
      "\n",
      "Filelist = glob.iglob(\"../../fashion_train\" + \"/*.jpg\");\n",
      "def readfileFromdict(Filelist, batch_size = 1):\n",
      "    b = 0;\n",
      "    read_features  =  np.array([], dtype=np.float).reshape(0,input_dim_used)\n",
      "    for imagePath in Filelist:\n",
      "        # extract the image ID (i.e. the unique filename) from the image\n",
      "        # path and load the image itself\n",
      "        imageID = imagePath[imagePath.rfind(\"/\") + 1:]\n",
      "        #print(imagePath);\n",
      "        image = cv2.imread(imagePath)\n",
      "        features = cd.describe(imagePath);\n",
      "        features = np.asarray(features.ravel()).reshape(1,-1)[0][:];\n",
      "        features = features[:input_dim_used]\n",
      "        read_features = np.vstack((read_features,features));\n",
      "        if(b == batch_size-1):\n",
      "            break\n",
      "        b = b+1;\n",
      "    return read_features;\n",
      "#shape = readfileFromdict(Filelist).shape;\n",
      "#print(shape)"
     ],
     "language": "python",
     "metadata": {},
     "outputs": [],
     "prompt_number": 13
    },
    {
     "cell_type": "code",
     "collapsed": false,
     "input": [],
     "language": "python",
     "metadata": {},
     "outputs": []
    }
   ],
   "metadata": {}
  }
 ]
}