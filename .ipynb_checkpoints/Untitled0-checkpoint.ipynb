{
 "metadata": {
  "name": "",
  "signature": "sha256:b1c700d0768a357be6a44f71e61b5579aaacca12d3129bbadda551d5e36a0232"
 },
 "nbformat": 3,
 "nbformat_minor": 0,
 "worksheets": [
  {
   "cells": [
    {
     "cell_type": "code",
     "collapsed": false,
     "input": [],
     "language": "python",
     "metadata": {},
     "outputs": []
    }
   ],
   "metadata": {}
  }
 ]
}